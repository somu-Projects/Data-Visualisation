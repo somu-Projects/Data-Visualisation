{
 "cells": [
  {
   "cell_type": "markdown",
   "metadata": {},
   "source": [
    "# Gathering Data from Amazon Website by using Pandas, BeautifulSoup and urllib"
   ]
  },
  {
   "cell_type": "markdown",
   "metadata": {},
   "source": [
    "\n",
    "# What is pandas?\n",
    "<span style=\"color: green\"> \n",
    "pandas is a software library written for the Python programming language for data manipulation and analysis. In particular, it offers data structures and operations for manipulating numerical tables and time series. It is free software released under the three-clause BSD license. </span>\n",
    "\n",
    "# What is in Beautiful python ?\n",
    "<span style=\"color: green\"> \n",
    "Beautiful Soup is a Python library for pulling data out of HTML and XML files. It works with your favorite parser to provide idiomatic ways of navigating, searching, and modifying the parse tree. It commonly saves programmers hours or days of work.\n",
    "These instructions illustrate all major features of Beautiful Soup 4, with examples. I show you what the library is good for, how it works, how to use it, how to make it do what you want, and what to do when it violates your expectations.\n",
    "This document covers Beautiful Soup version 4.8.1. The examples in this documentation should work the same way in Python 2.7 and Python 3.2.</span>\n",
    "\n",
    "# what is urllib in python ?\n",
    "<span style=\"color: green\"> \n",
    "Urllib package is the URL handling module for python. It is used to fetch URLs (Uniform Resource Locators). It uses the urlopen function and is able to fetch URLs using a variety of different protocols. Urllib is a package that collects several modules for working with URLs, such as: urllib.</span>"
   ]
  },
  {
   "cell_type": "markdown",
   "metadata": {},
   "source": [
    "##### importing the libraries"
   ]
  },
  {
   "cell_type": "code",
   "execution_count": null,
   "metadata": {},
   "outputs": [],
   "source": [
    "import pandas as pd\n",
    "from bs4 import BeautifulSoup as soup\n",
    "from urllib.request import urlopen as uReq"
   ]
  },
  {
   "cell_type": "markdown",
   "metadata": {},
   "source": [
    "##### storing the url in the variable my_url"
   ]
  },
  {
   "cell_type": "code",
   "execution_count": 58,
   "metadata": {},
   "outputs": [],
   "source": [
    "my_url=\"https://www.amazon.in/s?k=java+python+books&i=stripbooks&ref=nb_sb_noss\""
   ]
  },
  {
   "cell_type": "code",
   "execution_count": 59,
   "metadata": {},
   "outputs": [],
   "source": [
    "uClient = uReq(my_url)\n",
    "page_html = uClient.read()\n",
    "uClient.close()\n",
    "page_soup = soup(page_html, \"html.parser\")"
   ]
  },
  {
   "cell_type": "code",
   "execution_count": 60,
   "metadata": {},
   "outputs": [
    {
     "name": "stdout",
     "output_type": "stream",
     "text": [
      "24\n"
     ]
    }
   ],
   "source": [
    "containers = page_soup.findAll(\"div\", { \"class\": \"_2kHMtA\"})\n",
    "print(len(containers))"
   ]
  },
  {
   "cell_type": "code",
   "execution_count": 61,
   "metadata": {},
   "outputs": [
    {
     "name": "stdout",
     "output_type": "stream",
     "text": [
      "<div class=\"_2kHMtA\">\n",
      " <a class=\"_1fQZEK\" href=\"/samsung-galaxy-f13-nightsky-green-64-gb/p/itmeadfda1bd23fa?pid=MOBGENJWF4KJTPEN&amp;lid=LSTMOBGENJWF4KJTPENAUQVSZ&amp;marketplace=FLIPKART&amp;q=samsung+mobiles&amp;store=tyy%2F4io&amp;srno=s_1_1&amp;otracker=AS_QueryStore_HistoryAutoSuggest_0_2&amp;otracker1=AS_QueryStore_HistoryAutoSuggest_0_2&amp;fm=organic&amp;iid=9e2c5b3b-291a-4629-af52-1bbdb20af1f5.MOBGENJWF4KJTPEN.SEARCH&amp;ppt=None&amp;ppn=None&amp;ssid=0uczcfbw5c0000001666757075296&amp;qH=0258c7d48242959a\" rel=\"noopener noreferrer\" target=\"_blank\">\n",
      "  <div class=\"MIXNux\">\n",
      "   <div class=\"_2QcLo-\">\n",
      "    <div>\n",
      "     <div class=\"CXW8mj\" style=\"height:200px;width:200px\">\n",
      "      <img alt=\"SAMSUNG Galaxy F13 (Nightsky Green, 64 GB)\" class=\"_396cs4 _3exPp9\" src=\"https://rukminim1.flixcart.com/image/312/312/l4n2oi80/mobile/m/w/x/-original-imagfhu6bdzhnmkz.jpeg?q=70\"/>\n",
      "     </div>\n",
      "    </div>\n",
      "   </div>\n",
      "   <div class=\"_3wLduG\">\n",
      "    <div class=\"_3PzNI-\">\n",
      "     <span class=\"f3A4_V\">\n",
      "      <label class=\"_2iDkf8\">\n",
      "       <input class=\"_30VH1S\" readonly=\"\" type=\"checkbox\"/>\n",
      "       <div class=\"_24_Dny\">\n",
      "       </div>\n",
      "      </label>\n",
      "     </span>\n",
      "     <label class=\"_6Up2sF\">\n",
      "      <span>\n",
      "       Add to Compare\n",
      "      </span>\n",
      "     </label>\n",
      "    </div>\n",
      "   </div>\n",
      "   <div class=\"_2hVSre _3nq8ih\">\n",
      "    <div class=\"_36FSn5\">\n",
      "     <svg class=\"_1l0elc\" height=\"16\" viewbox=\"0 0 20 16\" width=\"16\" xmlns=\"http://www.w3.org/2000/svg\">\n",
      "      <path class=\"eX72wL\" d=\"M8.695 16.682C4.06 12.382 1 9.536 1 6.065 1 3.219 3.178 1 5.95 1c1.566 0 3.069.746 4.05 1.915C10.981 1.745 12.484 1 14.05 1 16.822 1 19 3.22 19 6.065c0 3.471-3.06 6.316-7.695 10.617L10 17.897l-1.305-1.215z\" fill=\"#2874F0\" fill-rule=\"evenodd\" opacity=\".9\" stroke=\"#FFF\">\n",
      "      </path>\n",
      "     </svg>\n",
      "    </div>\n",
      "   </div>\n",
      "  </div>\n",
      "  <div class=\"_3pLy-c row\">\n",
      "   <div class=\"col col-7-12\">\n",
      "    <div class=\"_4rR01T\">\n",
      "     SAMSUNG Galaxy F13 (Nightsky Green, 64 GB)\n",
      "    </div>\n",
      "    <div class=\"gUuXy-\">\n",
      "     <span class=\"_1lRcqv\" id=\"productRating_LSTMOBGENJWF4KJTPENAUQVSZ_MOBGENJWF4KJTPEN_\">\n",
      "      <div class=\"_3LWZlK\">\n",
      "       4.4\n",
      "       <img class=\"_1wB99o\" src=\"data:image/svg+xml;base64,PHN2ZyB4bWxucz0iaHR0cDovL3d3dy53My5vcmcvMjAwMC9zdmciIHdpZHRoPSIxMyIgaGVpZ2h0PSIxMiI+PHBhdGggZmlsbD0iI0ZGRiIgZD0iTTYuNSA5LjQzOWwtMy42NzQgMi4yMy45NC00LjI2LTMuMjEtMi44ODMgNC4yNTQtLjQwNEw2LjUuMTEybDEuNjkgNC4wMSA0LjI1NC40MDQtMy4yMSAyLjg4Mi45NCA0LjI2eiIvPjwvc3ZnPg==\"/>\n",
      "      </div>\n",
      "     </span>\n",
      "     <span class=\"_2_R_DZ\">\n",
      "      <span>\n",
      "       <span>\n",
      "        69,646 Ratings\n",
      "       </span>\n",
      "       <span class=\"_13vcmD\">\n",
      "        &amp;\n",
      "       </span>\n",
      "       <span>\n",
      "        3,435 Reviews\n",
      "       </span>\n",
      "      </span>\n",
      "     </span>\n",
      "    </div>\n",
      "    <div class=\"fMghEO\">\n",
      "     <ul class=\"_1xgFaf\">\n",
      "      <li class=\"rgWa7D\">\n",
      "       4 GB RAM | 64 GB ROM | Expandable Upto 1 TB\n",
      "      </li>\n",
      "      <li class=\"rgWa7D\">\n",
      "       16.76 cm (6.6 inch) Full HD+ Display\n",
      "      </li>\n",
      "      <li class=\"rgWa7D\">\n",
      "       50MP + 5MP + 2MP | 8MP Front Camera\n",
      "      </li>\n",
      "      <li class=\"rgWa7D\">\n",
      "       6000 mAh Lithium Ion Battery\n",
      "      </li>\n",
      "      <li class=\"rgWa7D\">\n",
      "       Exynos 850 Processor\n",
      "      </li>\n",
      "      <li class=\"rgWa7D\">\n",
      "       1 Year Warranty Provided By the Manufacturer from Date of Purchase\n",
      "      </li>\n",
      "     </ul>\n",
      "    </div>\n",
      "   </div>\n",
      "   <div class=\"col col-5-12 nlI3QM\">\n",
      "    <div class=\"_3tbKJL\">\n",
      "     <div class=\"_25b18c\">\n",
      "      <div class=\"_30jeq3 _1_WHN1\">\n",
      "       ₹9,499\n",
      "      </div>\n",
      "      <div class=\"_3I9_wc _27UcVY\">\n",
      "       ₹\n",
      "       <!-- -->\n",
      "       14,999\n",
      "      </div>\n",
      "      <div class=\"_3Ay6Sb\">\n",
      "       <span>\n",
      "        36% off\n",
      "       </span>\n",
      "      </div>\n",
      "     </div>\n",
      "     <div class=\"_3tcB5a p8ucoS\">\n",
      "      <div>\n",
      "       <div class=\"_2Tpdn3\" style=\"color:#000000;font-size:12px;font-weight:400\">\n",
      "        Free delivery\n",
      "       </div>\n",
      "      </div>\n",
      "     </div>\n",
      "    </div>\n",
      "    <div class=\"_13J9qT\">\n",
      "     <img height=\"21\" src=\"//static-assets-web.flixcart.com/fk-p-linchpin-web/fk-cp-zion/img/fa_62673a.png\"/>\n",
      "    </div>\n",
      "    <div class=\"_2ZdXDB\">\n",
      "     <div class=\"_3xFhiH\">\n",
      "      <div class=\"_2Tpdn3 _18hQoS\" style=\"color:#000000;font-size:14px;font-style:normal;font-weight:400\">\n",
      "       Upto\n",
      "      </div>\n",
      "      <div class=\"_2Tpdn3 _18hQoS\" style=\"color:#000000;font-size:14px;font-style:normal;font-weight:700\">\n",
      "       ₹8,950\n",
      "      </div>\n",
      "      <div class=\"_2Tpdn3 _18hQoS\" style=\"color:#000000;font-size:14px;font-style:normal;font-weight:400\">\n",
      "       Off on Exchange\n",
      "      </div>\n",
      "     </div>\n",
      "    </div>\n",
      "    <div class=\"_2ZdXDB\">\n",
      "     <div class=\"_3xFhiH\">\n",
      "      <div class=\"_2Tpdn3 _18hQoS\" style=\"color:#26A541;font-size:14px;font-weight:700\">\n",
      "       Bank Offer\n",
      "      </div>\n",
      "     </div>\n",
      "    </div>\n",
      "   </div>\n",
      "  </div>\n",
      " </a>\n",
      "</div>\n"
     ]
    }
   ],
   "source": [
    "print(soup.prettify(containers[0]))"
   ]
  },
  {
   "cell_type": "code",
   "execution_count": 68,
   "metadata": {},
   "outputs": [
    {
     "name": "stdout",
     "output_type": "stream",
     "text": [
      "SAMSUNG Galaxy F13 (Nightsky Green, 64 GB)\n"
     ]
    }
   ],
   "source": [
    "container = containers[0]\n",
    "print(container.div.img[\"alt\"])"
   ]
  },
  {
   "cell_type": "code",
   "execution_count": 38,
   "metadata": {},
   "outputs": [
    {
     "name": "stdout",
     "output_type": "stream",
     "text": [
      "₹9,499\n",
      "₹14,999\n",
      "36% off\n",
      "4.4\n"
     ]
    }
   ],
   "source": [
    "price = container.findAll(\"div\", {\"class\": \"_30jeq3 _1_WHN1\"})\n",
    "print(price[0].text)\n",
    "off = container.findAll(\"div\", {\"class\": \"_3I9_wc _27UcVY\"})\n",
    "print(off[0].text)\n",
    "off_per = container.findAll(\"div\", {\"class\": \"_3Ay6Sb\"})\n",
    "print(off_per[0].text)\n",
    "rating= container.findAll(\"div\", {\"class\": \"_3LWZlK\"})\n",
    "print(rating[0].text)"
   ]
  },
  {
   "cell_type": "code",
   "execution_count": 64,
   "metadata": {},
   "outputs": [],
   "source": [
    "filename = \"products.csv\"\n",
    "f = open(filename, \"w\")"
   ]
  },
  {
   "cell_type": "code",
   "execution_count": 65,
   "metadata": {},
   "outputs": [
    {
     "data": {
      "text/plain": [
       "32"
      ]
     },
     "execution_count": 65,
     "metadata": {},
     "output_type": "execute_result"
    }
   ],
   "source": [
    "headers = \"Product_Name, Pricing, Ratings \\n\"\n",
    "f.write(headers)"
   ]
  },
  {
   "cell_type": "code",
   "execution_count": 76,
   "metadata": {},
   "outputs": [
    {
     "name": "stdout",
     "output_type": "stream",
     "text": [
      "Product_Name:SAMSUNG Galaxy F13 (Nightsky Green, 64 GB)\n",
      "Price: ₹9,499\n",
      "Ratings:4.4\n",
      "SAMSUNG Galaxy F13 (Nightsky Green| 64 GB),Rs.9499,4.4\n",
      "\n",
      "Product_Name:SAMSUNG Galaxy F13 (Nightsky Green, 64 GB)\n",
      "Price: ₹9,499\n",
      "Ratings:4.4\n",
      "SAMSUNG Galaxy F13 (Nightsky Green| 64 GB),Rs.9499,4.4\n",
      "\n",
      "Product_Name:SAMSUNG Galaxy F13 (Nightsky Green, 64 GB)\n",
      "Price: ₹9,499\n",
      "Ratings:4.4\n",
      "SAMSUNG Galaxy F13 (Nightsky Green| 64 GB),Rs.9499,4.4\n",
      "\n",
      "Product_Name:SAMSUNG Galaxy F13 (Nightsky Green, 64 GB)\n",
      "Price: ₹9,499\n",
      "Ratings:4.4\n",
      "SAMSUNG Galaxy F13 (Nightsky Green| 64 GB),Rs.9499,4.4\n",
      "\n",
      "Product_Name:SAMSUNG Galaxy F13 (Nightsky Green, 64 GB)\n",
      "Price: ₹9,499\n",
      "Ratings:4.4\n",
      "SAMSUNG Galaxy F13 (Nightsky Green| 64 GB),Rs.9499,4.4\n",
      "\n",
      "Product_Name:SAMSUNG Galaxy F13 (Nightsky Green, 64 GB)\n",
      "Price: ₹9,499\n",
      "Ratings:4.4\n",
      "SAMSUNG Galaxy F13 (Nightsky Green| 64 GB),Rs.9499,4.4\n",
      "\n",
      "Product_Name:SAMSUNG Galaxy F13 (Nightsky Green, 64 GB)\n",
      "Price: ₹9,499\n",
      "Ratings:4.4\n",
      "SAMSUNG Galaxy F13 (Nightsky Green| 64 GB),Rs.9499,4.4\n",
      "\n",
      "Product_Name:SAMSUNG Galaxy F13 (Nightsky Green, 64 GB)\n",
      "Price: ₹9,499\n",
      "Ratings:4.4\n",
      "SAMSUNG Galaxy F13 (Nightsky Green| 64 GB),Rs.9499,4.4\n",
      "\n",
      "Product_Name:SAMSUNG Galaxy F13 (Nightsky Green, 64 GB)\n",
      "Price: ₹9,499\n",
      "Ratings:4.4\n",
      "SAMSUNG Galaxy F13 (Nightsky Green| 64 GB),Rs.9499,4.4\n",
      "\n",
      "Product_Name:SAMSUNG Galaxy F13 (Nightsky Green, 64 GB)\n",
      "Price: ₹9,499\n",
      "Ratings:4.4\n",
      "SAMSUNG Galaxy F13 (Nightsky Green| 64 GB),Rs.9499,4.4\n",
      "\n",
      "Product_Name:SAMSUNG Galaxy F13 (Nightsky Green, 64 GB)\n",
      "Price: ₹9,499\n",
      "Ratings:4.4\n",
      "SAMSUNG Galaxy F13 (Nightsky Green| 64 GB),Rs.9499,4.4\n",
      "\n",
      "Product_Name:SAMSUNG Galaxy F13 (Nightsky Green, 64 GB)\n",
      "Price: ₹9,499\n",
      "Ratings:4.4\n",
      "SAMSUNG Galaxy F13 (Nightsky Green| 64 GB),Rs.9499,4.4\n",
      "\n",
      "Product_Name:SAMSUNG Galaxy F13 (Nightsky Green, 64 GB)\n",
      "Price: ₹9,499\n",
      "Ratings:4.4\n",
      "SAMSUNG Galaxy F13 (Nightsky Green| 64 GB),Rs.9499,4.4\n",
      "\n",
      "Product_Name:SAMSUNG Galaxy F13 (Nightsky Green, 64 GB)\n",
      "Price: ₹9,499\n",
      "Ratings:4.4\n",
      "SAMSUNG Galaxy F13 (Nightsky Green| 64 GB),Rs.9499,4.4\n",
      "\n",
      "Product_Name:SAMSUNG Galaxy F13 (Nightsky Green, 64 GB)\n",
      "Price: ₹9,499\n",
      "Ratings:4.4\n",
      "SAMSUNG Galaxy F13 (Nightsky Green| 64 GB),Rs.9499,4.4\n",
      "\n",
      "Product_Name:SAMSUNG Galaxy F13 (Nightsky Green, 64 GB)\n",
      "Price: ₹9,499\n",
      "Ratings:4.4\n",
      "SAMSUNG Galaxy F13 (Nightsky Green| 64 GB),Rs.9499,4.4\n",
      "\n",
      "Product_Name:SAMSUNG Galaxy F13 (Nightsky Green, 64 GB)\n",
      "Price: ₹9,499\n",
      "Ratings:4.4\n",
      "SAMSUNG Galaxy F13 (Nightsky Green| 64 GB),Rs.9499,4.4\n",
      "\n",
      "Product_Name:SAMSUNG Galaxy F13 (Nightsky Green, 64 GB)\n",
      "Price: ₹9,499\n",
      "Ratings:4.4\n",
      "SAMSUNG Galaxy F13 (Nightsky Green| 64 GB),Rs.9499,4.4\n",
      "\n",
      "Product_Name:SAMSUNG Galaxy F13 (Nightsky Green, 64 GB)\n",
      "Price: ₹9,499\n",
      "Ratings:4.4\n",
      "SAMSUNG Galaxy F13 (Nightsky Green| 64 GB),Rs.9499,4.4\n",
      "\n",
      "Product_Name:SAMSUNG Galaxy F13 (Nightsky Green, 64 GB)\n",
      "Price: ₹9,499\n",
      "Ratings:4.4\n",
      "SAMSUNG Galaxy F13 (Nightsky Green| 64 GB),Rs.9499,4.4\n",
      "\n",
      "Product_Name:SAMSUNG Galaxy F13 (Nightsky Green, 64 GB)\n",
      "Price: ₹9,499\n",
      "Ratings:4.4\n",
      "SAMSUNG Galaxy F13 (Nightsky Green| 64 GB),Rs.9499,4.4\n",
      "\n",
      "Product_Name:SAMSUNG Galaxy F13 (Nightsky Green, 64 GB)\n",
      "Price: ₹9,499\n",
      "Ratings:4.4\n",
      "SAMSUNG Galaxy F13 (Nightsky Green| 64 GB),Rs.9499,4.4\n",
      "\n",
      "Product_Name:SAMSUNG Galaxy F13 (Nightsky Green, 64 GB)\n",
      "Price: ₹9,499\n",
      "Ratings:4.4\n",
      "SAMSUNG Galaxy F13 (Nightsky Green| 64 GB),Rs.9499,4.4\n",
      "\n",
      "Product_Name:SAMSUNG Galaxy F13 (Nightsky Green, 64 GB)\n",
      "Price: ₹9,499\n",
      "Ratings:4.4\n",
      "SAMSUNG Galaxy F13 (Nightsky Green| 64 GB),Rs.9499,4.4\n",
      "\n"
     ]
    }
   ],
   "source": [
    "filename = \"flipkart_moble_products.csv\"\n",
    "f = open(filename, \"w\")\n",
    "headers = \"Product_Name, Pricing, Ratings \\n\"\n",
    "f.write(headers)\n",
    "\n",
    "for container in containers:\n",
    "    container = containers[0]\n",
    "    product_name = container.div.img[\"alt\"]\n",
    "    price_container = container.findAll(\"div\", {\"class\": \"_30jeq3 _1_WHN1\"})\n",
    "    price = price_container[0].text.strip()\n",
    "    rating_container = container.findAll(\"div\", {\"class\": \"_3LWZlK\"})\n",
    "    rating = rating_container[0].text\n",
    "    print(\"Product_Name:\"+ product_name)\n",
    "    print(\"Price: \" + price)\n",
    "    print(\"Ratings:\" + rating)\n",
    "    #String parsing\n",
    "    trim_price=''.join(price.split(','))\n",
    "    rm_rupee = trim_price.split('₹')\n",
    "    add_rs_price = \"Rs.\"+rm_rupee[1]\n",
    "    split_price = add_rs_price.split('E')\n",
    "    final_price = split_price[0]\n",
    "    split_rating = rating.split(\" \")\n",
    "    final_rating = split_rating[0]\n",
    "    print(product_name.replace(\",\" ,\"|\") +\",\" + final_price +\",\" + final_rating + \"\\n\")\n",
    "    f.write(product_name.replace(\",\" ,\"|\") +\",\" + final_price +\",\" + final_rating + \"\\n\")\n",
    "    # f.write(product_name.replace(\",\" ,\"|\") +\",\" +\"\\n\")\n",
    "f.close()"
   ]
  },
  {
   "cell_type": "markdown",
   "metadata": {},
   "source": []
  }
 ],
 "metadata": {
  "kernelspec": {
   "display_name": "Python 3.9.12 ('base')",
   "language": "python",
   "name": "python3"
  },
  "language_info": {
   "codemirror_mode": {
    "name": "ipython",
    "version": 3
   },
   "file_extension": ".py",
   "mimetype": "text/x-python",
   "name": "python",
   "nbconvert_exporter": "python",
   "pygments_lexer": "ipython3",
   "version": "3.9.12"
  },
  "orig_nbformat": 4,
  "vscode": {
   "interpreter": {
    "hash": "ad2bdc8ecc057115af97d19610ffacc2b4e99fae6737bb82f5d7fb13d2f2c186"
   }
  }
 },
 "nbformat": 4,
 "nbformat_minor": 2
}
