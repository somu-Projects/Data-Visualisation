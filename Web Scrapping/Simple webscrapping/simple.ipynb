{
 "cells": [
  {
   "cell_type": "code",
   "execution_count": 45,
   "metadata": {},
   "outputs": [],
   "source": [
    "from bs4 import BeautifulSoup #as bs\n",
    "import requests\n",
    "import urllib.request as urllib2\n",
    "from csv import writer"
   ]
  },
  {
   "cell_type": "code",
   "execution_count": 20,
   "metadata": {},
   "outputs": [
    {
     "name": "stdout",
     "output_type": "stream",
     "text": [
      "<Response [200]>\n"
     ]
    }
   ],
   "source": [
    "url= \"https://www.pararius.com/apartments/amsterdam?ac=1\"\n",
    "page = requests.get(url)\n",
    "print(page)"
   ]
  },
  {
   "cell_type": "code",
   "execution_count": null,
   "metadata": {},
   "outputs": [],
   "source": []
  },
  {
   "cell_type": "code",
   "execution_count": 34,
   "metadata": {},
   "outputs": [],
   "source": [
    "soup = BeautifulSoup(page.content, 'html.parser')\n",
    "lists = soup.find_all('section', class_=\"listing-search-item\")\n",
    "#print(lists)"
   ]
  },
  {
   "cell_type": "code",
   "execution_count": 38,
   "metadata": {},
   "outputs": [],
   "source": [
    "with open('housing.csv', 'w', encoding='utf8', newline='') as f:\n",
    "    thewriter = writer(f)\n",
    "    header = ['Title', 'Location', 'Price', 'Area']\n",
    "    thewriter.writerow(header)"
   ]
  },
  {
   "cell_type": "code",
   "execution_count": 68,
   "metadata": {},
   "outputs": [
    {
     "name": "stdout",
     "output_type": "stream",
     "text": [
      "Furnished\n",
      "Furnished\n",
      "Furnished\n",
      "Furnished\n",
      "Furnished\n",
      "Furnished\n",
      "Furnished\n",
      "Furnished\n",
      "Furnished\n",
      "Furnished\n",
      "Furnished\n",
      "Furnished\n",
      "Furnished\n",
      "Furnished\n",
      "Furnished\n",
      "Furnished\n",
      "Furnished\n",
      "Furnished\n",
      "Furnished\n",
      "Furnished\n",
      "Furnished\n",
      "Furnished\n",
      "Furnished\n",
      "Furnished\n",
      "Furnished\n",
      "Furnished\n",
      "Furnished\n",
      "Furnished\n",
      "Furnished\n",
      "Furnished\n",
      "Furnished\n",
      "Furnished\n",
      "[<li class=\"illustrated-features__item illustrated-features__item--interior\">Furnished</li>]\n"
     ]
    }
   ],
   "source": [
    "for list in lists:\n",
    "        title = list.find('a', class_=\"listing-search-item__link--title\").text.replace('\\n', '')\n",
    "        # print(title)\n",
    "        location = list.find('div', class_=\"listing-search-item__sub-title\").text.replace('\\n', '')\n",
    "        # print(location)\n",
    "        price = list.find('div', class_=\"listing-search-item__price\").text.replace('\\n', '')\n",
    "        # print(price)\n",
    "        area = list.find('li', class_=\"illustrated-features__item illustrated-features__item--surface-area\").text.replace('\\n', '')\n",
    "        # print(area)\n",
    "        rooms=list.find('li', class_=\"illustrated-features__item illustrated-features__item--number-of-rooms\").text.replace('\\n', '')\n",
    "        # print(rooms)\n",
    "        stat=list.find('li', class_=\"illustrated-features__item illustrated-features__item--interior\")\n",
    "        # print(stat)\n",
    "        stat = soup.find(\"li\", class_=\"illustrated-features__item illustrated-features__item--interior\")\n",
    "        # print (stat.text)\n",
    "\n",
    "info = [title,location,price, area,rooms,stat]\n",
    "# info = [stat]\n",
    "print(info)"
   ]
  }
 ],
 "metadata": {
  "kernelspec": {
   "display_name": "Python 3.10.4 64-bit",
   "language": "python",
   "name": "python3"
  },
  "language_info": {
   "codemirror_mode": {
    "name": "ipython",
    "version": 3
   },
   "file_extension": ".py",
   "mimetype": "text/x-python",
   "name": "python",
   "nbconvert_exporter": "python",
   "pygments_lexer": "ipython3",
   "version": "3.10.4"
  },
  "orig_nbformat": 4,
  "vscode": {
   "interpreter": {
    "hash": "e6763ba6110e050d0e6d4dc5757df4d9377869df6777c500c615f7546a6ecc95"
   }
  }
 },
 "nbformat": 4,
 "nbformat_minor": 2
}
