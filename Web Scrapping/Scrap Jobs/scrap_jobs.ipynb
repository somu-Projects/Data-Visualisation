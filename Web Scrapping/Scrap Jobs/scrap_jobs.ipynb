{
 "cells": [
  {
   "cell_type": "code",
   "execution_count": 6,
   "metadata": {},
   "outputs": [],
   "source": [
    "import pandas as pd\n",
    "import requests\n",
    "from bs4 import BeautifulSoup"
   ]
  },
  {
   "cell_type": "code",
   "execution_count": 2,
   "metadata": {},
   "outputs": [],
   "source": [
    "URL = \"https://realpython.github.io/fake-jobs/\"\n",
    "page = requests.get(URL)\n",
    "\n",
    "soup = BeautifulSoup(page.content, \"html.parser\")\n",
    "results = soup.find(id=\"ResultsContainer\")\n"
   ]
  },
  {
   "cell_type": "code",
   "execution_count": 3,
   "metadata": {},
   "outputs": [
    {
     "name": "stdout",
     "output_type": "stream",
     "text": [
      "PYTHON JOBS\n",
      "==============================\n",
      "\n"
     ]
    }
   ],
   "source": [
    "# Look for Python jobs\n",
    "print(\"PYTHON JOBS\\n==============================\\n\")\n",
    "python_jobs = results.find_all(\n",
    "    \"h2\", string=lambda text: \"python\" in text.lower()\n",
    ")\n",
    "python_job_elements = [\n",
    "    h2_element.parent.parent.parent for h2_element in python_jobs\n",
    "]"
   ]
  },
  {
   "cell_type": "code",
   "execution_count": 19,
   "metadata": {},
   "outputs": [
    {
     "name": "stdout",
     "output_type": "stream",
     "text": [
      "Senior Python Developer\n"
     ]
    },
    {
     "ename": "KeyError",
     "evalue": "0",
     "output_type": "error",
     "traceback": [
      "\u001b[1;31m---------------------------------------------------------------------------\u001b[0m",
      "\u001b[1;31mKeyError\u001b[0m                                  Traceback (most recent call last)",
      "\u001b[1;32mc:\\Users\\CUTM\\Desktop\\Data Visualisation\\Web Scrapping\\Scrap Jobs\\scrap_jobs.ipynb Cell 4\u001b[0m in \u001b[0;36m<cell line: 5>\u001b[1;34m()\u001b[0m\n\u001b[0;32m      <a href='vscode-notebook-cell:/c%3A/Users/CUTM/Desktop/Data%20Visualisation/Web%20Scrapping/Scrap%20Jobs/scrap_jobs.ipynb#W3sZmlsZQ%3D%3D?line=7'>8</a>\u001b[0m \u001b[39mprint\u001b[39m(title)\n\u001b[0;32m     <a href='vscode-notebook-cell:/c%3A/Users/CUTM/Desktop/Data%20Visualisation/Web%20Scrapping/Scrap%20Jobs/scrap_jobs.ipynb#W3sZmlsZQ%3D%3D?line=9'>10</a>\u001b[0m company_element \u001b[39m=\u001b[39m job_element\u001b[39m.\u001b[39mfind(\u001b[39m\"\u001b[39m\u001b[39mh3\u001b[39m\u001b[39m\"\u001b[39m, class_\u001b[39m=\u001b[39m\u001b[39m\"\u001b[39m\u001b[39mcompany\u001b[39m\u001b[39m\"\u001b[39m)\n\u001b[1;32m---> <a href='vscode-notebook-cell:/c%3A/Users/CUTM/Desktop/Data%20Visualisation/Web%20Scrapping/Scrap%20Jobs/scrap_jobs.ipynb#W3sZmlsZQ%3D%3D?line=10'>11</a>\u001b[0m \u001b[39mprint\u001b[39m(company_element[\u001b[39m0\u001b[39;49m]\u001b[39m.\u001b[39mtext\u001b[39m.\u001b[39mstrip())\n\u001b[0;32m     <a href='vscode-notebook-cell:/c%3A/Users/CUTM/Desktop/Data%20Visualisation/Web%20Scrapping/Scrap%20Jobs/scrap_jobs.ipynb#W3sZmlsZQ%3D%3D?line=11'>12</a>\u001b[0m company\u001b[39m=\u001b[39mcompany_element\u001b[39m.\u001b[39mtext\u001b[39m.\u001b[39mstrip()\n\u001b[0;32m     <a href='vscode-notebook-cell:/c%3A/Users/CUTM/Desktop/Data%20Visualisation/Web%20Scrapping/Scrap%20Jobs/scrap_jobs.ipynb#W3sZmlsZQ%3D%3D?line=13'>14</a>\u001b[0m location_element \u001b[39m=\u001b[39m job_element\u001b[39m.\u001b[39mfind(\u001b[39m\"\u001b[39m\u001b[39mp\u001b[39m\u001b[39m\"\u001b[39m, class_\u001b[39m=\u001b[39m\u001b[39m\"\u001b[39m\u001b[39mlocation\u001b[39m\u001b[39m\"\u001b[39m)\n",
      "File \u001b[1;32mc:\\Users\\CUTM\\AppData\\Local\\Programs\\Python\\Python310\\lib\\site-packages\\bs4\\element.py:1519\u001b[0m, in \u001b[0;36mTag.__getitem__\u001b[1;34m(self, key)\u001b[0m\n\u001b[0;32m   1516\u001b[0m \u001b[39mdef\u001b[39;00m \u001b[39m__getitem__\u001b[39m(\u001b[39mself\u001b[39m, key):\n\u001b[0;32m   1517\u001b[0m     \u001b[39m\"\"\"tag[key] returns the value of the 'key' attribute for the Tag,\u001b[39;00m\n\u001b[0;32m   1518\u001b[0m \u001b[39m    and throws an exception if it's not there.\"\"\"\u001b[39;00m\n\u001b[1;32m-> 1519\u001b[0m     \u001b[39mreturn\u001b[39;00m \u001b[39mself\u001b[39;49m\u001b[39m.\u001b[39;49mattrs[key]\n",
      "\u001b[1;31mKeyError\u001b[0m: 0"
     ]
    }
   ],
   "source": [
    "\n",
    "filename = \"Jobs.csv\"\n",
    "f = open(filename, \"w\")\n",
    "headers = \"Title, Company, Location, Linc Url  \\n\"\n",
    "f.write(headers)\n",
    "for job_element in python_job_elements:\n",
    "    title_element = job_element.find(\"h2\", class_=\"title\")\n",
    "    title=title_element.text.strip()\n",
    "    print(title)\n",
    "\n",
    "    company_element = job_element.find(\"h3\", class_=\"company\")\n",
    "    print(company_element[0].text.strip())\n",
    "    company=company_element.text.strip()\n",
    "\n",
    "    location_element = job_element.find(\"p\", class_=\"location\")\n",
    "    print(location_element.text.strip())\n",
    "    location=location_element.text.strip()\n",
    "    \n",
    "\n",
    "    link_url = job_element.find_all(\"a\")[1][\"href\"]\n",
    "    print(f\"Apply here: {link_url}\\n\")\n",
    "    print()\n",
    "\n",
    "    print(title.replace(\",\" ,\"|\") +\",\" + company+\",\" + location + \",\" + link_url +\"\\n\")\n",
    "    f.write(title.replace(\",\" ,\"|\") +\",\" + company +\",\" + location + \",\" + link_url +\"\\n\")\n",
    "    #f.write(title_element.replace(\",\" ,\"|\") +\"\\n\")\n",
    "    #f.write(product_name.replace(\",\" ,\"|\") +\",\" + final_price +\",\" + final_rating + \"\\n\")\n",
    "\n",
    "f.close()"
   ]
  }
 ],
 "metadata": {
  "kernelspec": {
   "display_name": "Python 3.10.4 64-bit",
   "language": "python",
   "name": "python3"
  },
  "language_info": {
   "codemirror_mode": {
    "name": "ipython",
    "version": 3
   },
   "file_extension": ".py",
   "mimetype": "text/x-python",
   "name": "python",
   "nbconvert_exporter": "python",
   "pygments_lexer": "ipython3",
   "version": "3.10.4"
  },
  "orig_nbformat": 4,
  "vscode": {
   "interpreter": {
    "hash": "e6763ba6110e050d0e6d4dc5757df4d9377869df6777c500c615f7546a6ecc95"
   }
  }
 },
 "nbformat": 4,
 "nbformat_minor": 2
}
